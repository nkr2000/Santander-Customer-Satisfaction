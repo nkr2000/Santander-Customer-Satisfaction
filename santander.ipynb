{
 "cells": [
  {
   "cell_type": "code",
   "execution_count": null,
   "metadata": {},
   "outputs": [],
   "source": []
  },
  {
   "cell_type": "code",
   "execution_count": null,
   "metadata": {},
   "outputs": [],
   "source": []
  },
  {
   "cell_type": "code",
   "execution_count": null,
   "metadata": {},
   "outputs": [],
   "source": []
  },
  {
   "cell_type": "code",
   "execution_count": null,
   "metadata": {},
   "outputs": [],
   "source": []
  },
  {
   "cell_type": "code",
   "execution_count": 37,
   "metadata": {},
   "outputs": [],
   "source": []
  },
  {
   "cell_type": "code",
   "execution_count": null,
   "metadata": {},
   "outputs": [],
   "source": []
  },
  {
   "cell_type": "code",
   "execution_count": null,
   "metadata": {},
   "outputs": [],
   "source": []
  },
  {
   "cell_type": "code",
   "execution_count": null,
   "metadata": {},
   "outputs": [],
   "source": []
  },
  {
   "cell_type": "code",
   "execution_count": null,
   "metadata": {},
   "outputs": [],
   "source": []
  },
  {
   "cell_type": "code",
   "execution_count": 42,
   "metadata": {},
   "outputs": [],
   "source": []
  },
  {
   "cell_type": "code",
   "execution_count": null,
   "metadata": {},
   "outputs": [],
   "source": []
  },
  {
   "cell_type": "code",
   "execution_count": null,
   "metadata": {},
   "outputs": [],
   "source": [
    "  "
   ]
  },
  {
   "cell_type": "code",
   "execution_count": null,
   "metadata": {},
   "outputs": [],
   "source": []
  },
  {
   "cell_type": "code",
   "execution_count": 46,
   "metadata": {},
   "outputs": [],
   "source": []
  },
  {
   "cell_type": "code",
   "execution_count": null,
   "metadata": {},
   "outputs": [],
   "source": []
  },
  {
   "cell_type": "code",
   "execution_count": 47,
   "metadata": {},
   "outputs": [],
   "source": []
  },
  {
   "cell_type": "code",
   "execution_count": null,
   "metadata": {},
   "outputs": [],
   "source": []
  },
  {
   "cell_type": "code",
   "execution_count": 48,
   "metadata": {},
   "outputs": [],
   "source": []
  },
  {
   "cell_type": "code",
   "execution_count": 128,
   "metadata": {},
   "outputs": [],
   "source": []
  },
  {
   "cell_type": "code",
   "execution_count": null,
   "metadata": {},
   "outputs": [],
   "source": []
  },
  {
   "cell_type": "code",
   "execution_count": 50,
   "metadata": {},
   "outputs": [],
   "source": []
  },
  {
   "cell_type": "code",
   "execution_count": 51,
   "metadata": {},
   "outputs": [],
   "source": []
  },
  {
   "cell_type": "code",
   "execution_count": null,
   "metadata": {},
   "outputs": [],
   "source": []
  },
  {
   "cell_type": "code",
   "execution_count": 167,
   "metadata": {},
   "outputs": [],
   "source": []
  },
  {
   "cell_type": "code",
   "execution_count": 53,
   "metadata": {},
   "outputs": [],
   "source": []
  },
  {
   "cell_type": "code",
   "execution_count": null,
   "metadata": {},
   "outputs": [],
   "source": []
  },
  {
   "cell_type": "code",
   "execution_count": null,
   "metadata": {},
   "outputs": [],
   "source": []
  },
  {
   "cell_type": "code",
   "execution_count": null,
   "metadata": {},
   "outputs": [],
   "source": []
  },
  {
   "cell_type": "code",
   "execution_count": null,
   "metadata": {},
   "outputs": [],
   "source": []
  },
  {
   "cell_type": "code",
   "execution_count": null,
   "metadata": {},
   "outputs": [],
   "source": []
  },
  {
   "cell_type": "code",
   "execution_count": null,
   "metadata": {},
   "outputs": [],
   "source": []
  },
  {
   "cell_type": "code",
   "execution_count": 89,
   "metadata": {},
   "outputs": [],
   "source": [
    "import numpy as np\n",
    "import pandas as pd\n",
    "import matplotlib.pyplot as plt\n",
    "from sklearn.model_selection import train_test_split\n",
    "data=pd.read_csv('work.csv')\n",
    "data1=data.copy()\n",
    "from sklearn.feature_selection import VarianceThreshold\n",
    "select=VarianceThreshold(threshold=0.02)\n",
    "x=data1.drop(['TARGET'],axis=1)\n",
    "y=data1['TARGET']\n",
    "from imblearn.over_sampling import RandomOverSampler\n",
    "ros = RandomOverSampler(random_state=42)\n",
    "x,y = ros.fit_resample(x, y)\n",
    "x_train,x_test,y_train,y_test=train_test_split(x,y,test_size=0.2,random_state=0)"
   ]
  },
  {
   "cell_type": "code",
   "execution_count": 90,
   "metadata": {},
   "outputs": [],
   "source": [
    "select.fit(x_train)\n",
    "x_train=select.transform(x_train)\n",
    "x_test=select.transform(x_test)\n",
    "x_train=pd.DataFrame(x_train)\n",
    "x_test=pd.DataFrame(x_test)\n",
    "duplicated=x_train.T.duplicated()\n",
    "columns=[not index for index in duplicated]\n",
    "x_train=(x_train.T[columns]).T\n",
    "x_test=(x_test.T[columns]).T"
   ]
  },
  {
   "cell_type": "code",
   "execution_count": 91,
   "metadata": {},
   "outputs": [],
   "source": [
    "# x_train=np.array(x_train).reshape(116819, 241,1)\n",
    "# x_train=np.array(x_test).reshape(29205, 241,1)\n",
    "from sklearn.preprocessing import StandardScaler\n",
    "scaler=StandardScaler()\n",
    "scaler.fit(x_train)\n",
    "x_train=scaler.transform(x_train)\n",
    "x_test=scaler.transform(x_test)\n",
    "x_train=np.array(x_train).reshape(116819, 241,1)\n",
    "x_test=np.array(x_test).reshape(29205, 241,1)"
   ]
  },
  {
   "cell_type": "code",
   "execution_count": 110,
   "metadata": {},
   "outputs": [],
   "source": [
    "import tensorflow as tf\n",
    "from tensorflow.keras.preprocessing.text import Tokenizer\n",
    "from tensorflow.keras.preprocessing.sequence import pad_sequences\n",
    "from tensorflow.keras.models import Sequential\n",
    "from tensorflow.keras.layers import Dropout,Dense,Flatten,Embedding,Activation,BatchNormalization\n",
    "from tensorflow.keras.layers import Conv1D,MaxPooling1D,GlobalMaxPooling1D\n",
    "model=Sequential()\n",
    "model.add(Conv1D(32,3,activation='relu',input_shape=(241,1)))\n",
    "model.add(BatchNormalization())\n",
    "model.add(MaxPooling1D(2))\n",
    "model.add(Dropout(0.5))\n",
    "\n",
    "model.add(Conv1D(64,3,activation='relu'))\n",
    "model.add(BatchNormalization())\n",
    "model.add(MaxPooling1D(2))\n",
    "model.add(Dropout(0.5))\n",
    "\n",
    "model.add(Conv1D(128,3,activation='relu'))\n",
    "model.add(BatchNormalization())\n",
    "model.add(MaxPooling1D(2))\n",
    "model.add(Dropout(0.5))\n",
    "\n",
    "model.add(Flatten())\n",
    "model.add(Dense(100,activation='relu'))\n",
    "model.add(Dropout(0.5))\n",
    "model.add(Dense(1,activation='sigmoid'))"
   ]
  },
  {
   "cell_type": "code",
   "execution_count": 117,
   "metadata": {},
   "outputs": [],
   "source": [
    "# # columns=x_train[x_train.columns[select.get_support(indices=True)]].columns\n",
    "# columns=[0, 2, 145, 160, 167, 285, 286, 287, 288, 324]\n",
    "# # 2, 23, 56, 76, 78, 119, 126, 136, 163, 219\n",
    "# # 164, 165, 167, 168, 169, 171, 172, 173, 175, 179\n",
    "\n",
    "model.compile(optimizer='adam',\n",
    "              loss='binary_crossentropy', \n",
    "             metrics=[tf.keras.metrics.AUC()])\n",
    "import numpy\n",
    "y_train=y_train.reshape(116819,-1)\n",
    "y_test=y_test.reshape(29205,-1)\n",
    "\n"
   ]
  },
  {
   "cell_type": "code",
   "execution_count": 118,
   "metadata": {},
   "outputs": [
    {
     "name": "stdout",
     "output_type": "stream",
     "text": [
      "Train on 116819 samples, validate on 29205 samples\n",
      "Epoch 1/10\n",
      "116819/116819 [==============================] - 234s 2ms/sample - loss: 0.6632 - auc_19: 0.7067 - val_loss: 0.9887 - val_auc_19: 0.7577\n",
      "Epoch 2/10\n",
      "116819/116819 [==============================] - 243s 2ms/sample - loss: 0.5773 - auc_19: 0.7747 - val_loss: 1.1720 - val_auc_19: 0.7462\n",
      "Epoch 3/10\n",
      "116819/116819 [==============================] - 245s 2ms/sample - loss: 0.5598 - auc_19: 0.7897 - val_loss: 0.9504 - val_auc_19: 0.7622\n",
      "Epoch 4/10\n",
      "116819/116819 [==============================] - 248s 2ms/sample - loss: 0.5526 - auc_19: 0.7962 - val_loss: 0.5735 - val_auc_19: 0.8111\n",
      "Epoch 5/10\n",
      "116819/116819 [==============================] - 249s 2ms/sample - loss: 0.5481 - auc_19: 0.8002 - val_loss: 0.5408 - val_auc_19: 0.8169\n",
      "Epoch 6/10\n",
      "116819/116819 [==============================] - 244s 2ms/sample - loss: 0.5426 - auc_19: 0.8045 - val_loss: 0.5320 - val_auc_19: 0.8211\n",
      "Epoch 7/10\n",
      "116819/116819 [==============================] - 249s 2ms/sample - loss: 0.5399 - auc_19: 0.8070 - val_loss: 0.5219 - val_auc_19: 0.8237\n",
      "Epoch 8/10\n",
      "116819/116819 [==============================] - 245s 2ms/sample - loss: 0.5360 - auc_19: 0.8093 - val_loss: 0.5194 - val_auc_19: 0.8257\n",
      "Epoch 9/10\n",
      "116819/116819 [==============================] - 231s 2ms/sample - loss: 0.5329 - auc_19: 0.8116 - val_loss: 0.5134 - val_auc_19: 0.8283\n",
      "Epoch 10/10\n",
      "116819/116819 [==============================] - 222s 2ms/sample - loss: 0.5298 - auc_19: 0.8146 - val_loss: 0.5135 - val_auc_19: 0.8285\n"
     ]
    },
    {
     "data": {
      "text/plain": [
       "<tensorflow.python.keras.callbacks.History at 0x21198c90f08>"
      ]
     },
     "execution_count": 118,
     "metadata": {},
     "output_type": "execute_result"
    }
   ],
   "source": [
    "\n",
    "# important=pd.concat([pd.Series(analysis[0]),pd.Series(analysis[1])],axis=1)\n",
    "# important.columns=['anova','p_value']\n",
    "# important.sort_values(by='anova',ascending=False,inplace=True)\n",
    "# important.iloc[:10,:]\n",
    "model.fit(x_train,y_train,epochs=10,batch_size=1024, validation_data=(x_test,y_test))"
   ]
  },
  {
   "cell_type": "code",
   "execution_count": 129,
   "metadata": {},
   "outputs": [],
   "source": [
    "# x_train=x_train[columns]\n",
    "# x_test=x_test[columns]\n",
    "y_pred=model.predict(x_train1)"
   ]
  },
  {
   "cell_type": "code",
   "execution_count": 132,
   "metadata": {},
   "outputs": [],
   "source": [
    "# from sklearn.ensemble import RandomForestClassifier\n",
    "# from sklearn.metrics import confusion_matrix\n",
    "# from sklearn.feature_selection import SelectFromModel\n",
    "# sel = SelectFromModel(RandomForestClassifier(n_estimators = 100))\n",
    "# sel.fit(x_train, y_train)\n",
    "# # clf = RandomForestClassifier(n_estimators=100, random_state=0)\n",
    "# # y_pred=clf.predict(x_train1)\n",
    "# selected_feat= x_train.columns[(sel.get_support())]\n",
    "for i in range(len(y_pred)):\n",
    "    if(y_pred[i]>0.5):\n",
    "        y_pred[i]=1\n",
    "    else:\n",
    "        y_pred[i]=0\n",
    "  "
   ]
  },
  {
   "cell_type": "code",
   "execution_count": 23,
   "metadata": {},
   "outputs": [],
   "source": [
    "# columns=[  0,   2,   5,  12,  14,  15,  17,  18,  23,  56,  78, 114, 118,\n",
    "#             122, 131, 141, 145, 160, 167, 169, 208, 237, 238, 239, 240, 241,\n",
    "#             242, 243, 252, 281, 282, 283, 284, 285, 286, 287, 288, 324]"
   ]
  },
  {
   "cell_type": "code",
   "execution_count": 1,
   "metadata": {},
   "outputs": [],
   "source": [
    "# submission = pd.DataFrame({\"TARGET\":y_pred})\n",
    "# # submission.to_csv(\"submission.csv\", index=False)"
   ]
  },
  {
   "cell_type": "code",
   "execution_count": 35,
   "metadata": {},
   "outputs": [
    {
     "data": {
      "text/plain": [
       "(116819, 38)"
      ]
     },
     "execution_count": 35,
     "metadata": {},
     "output_type": "execute_result"
    }
   ],
   "source": []
  },
  {
   "cell_type": "code",
   "execution_count": 36,
   "metadata": {},
   "outputs": [
    {
     "data": {
      "text/plain": [
       "{'fit_time': array([37.9361639 , 36.481215  , 36.62443042, 37.11823082, 36.70355415,\n",
       "        36.45906448, 37.19196963, 37.46967506, 37.02883363, 36.77787852]),\n",
       " 'score_time': array([0.87125087, 0.7063024 , 0.69315457, 0.69231343, 0.70011878,\n",
       "        0.56154227, 0.70516562, 0.71807241, 0.69913578, 0.70575833]),\n",
       " 'test_score': array([0.99991462, 0.99991465, 0.99991451, 0.99991457, 0.99999997,\n",
       "        0.99991462, 0.99991454, 1.        , 0.9997435 , 0.99991463])}"
      ]
     },
     "execution_count": 36,
     "metadata": {},
     "output_type": "execute_result"
    }
   ],
   "source": [
    "# from sklearn.model_selection import cross_validate\n",
    "# clf=RandomForestClassifier(n_estimators=100)\n",
    "# cross_validate(clf, x_train, y_train, cv=10, scoring='roc_auc')"
   ]
  },
  {
   "cell_type": "code",
   "execution_count": 17,
   "metadata": {},
   "outputs": [
    {
     "data": {
      "text/plain": [
       "(76020, 371)"
      ]
     },
     "execution_count": 17,
     "metadata": {},
     "output_type": "execute_result"
    }
   ],
   "source": [
    "# import numpy as np\n",
    "# import pandas as pd\n",
    "# import matplotlib.pyplot as plt\n",
    "# from sklearn.model_selection import train_test_split\n",
    "# data=pd.read_csv('work.csv')\n",
    "# data.shape\n"
   ]
  },
  {
   "cell_type": "code",
   "execution_count": 128,
   "metadata": {},
   "outputs": [
    {
     "data": {
      "text/plain": [
       "(75818, 241, 1)"
      ]
     },
     "execution_count": 128,
     "metadata": {},
     "output_type": "execute_result"
    }
   ],
   "source": [
    "data=pd.read_csv('test.csv')\n",
    "data1=data.copy()\n",
    "x_train1=data1\n",
    "x_train1=select.transform(x_train1)\n",
    "x_train1=pd.DataFrame(x_train1)\n",
    "x_train1=(x_train1.T[columns]).T\n",
    "x_train1=scaler.transform(x_train1)\n",
    "x_train1=np.array(x_train1).reshape(75818, 241,1)\n",
    "x_train1.shape"
   ]
  },
  {
   "cell_type": "code",
   "execution_count": null,
   "metadata": {},
   "outputs": [],
   "source": []
  },
  {
   "cell_type": "code",
   "execution_count": 136,
   "metadata": {},
   "outputs": [
    {
     "data": {
      "text/plain": [
       "0    71516\n",
       "1     4302\n",
       "Name: TARGET, dtype: int64"
      ]
     },
     "execution_count": 136,
     "metadata": {},
     "output_type": "execute_result"
    }
   ],
   "source": [
    "data1=pd.read_csv('sample_submission.csv')\n",
    "data1['TARGET'].value_counts()"
   ]
  },
  {
   "cell_type": "code",
   "execution_count": 137,
   "metadata": {},
   "outputs": [],
   "source": [
    "data1['TARGET']=y_pred\n",
    "data=pd.concat([data1['ID'],data1['TARGET']],axis=1)"
   ]
  },
  {
   "cell_type": "code",
   "execution_count": 138,
   "metadata": {},
   "outputs": [],
   "source": [
    "data.to_csv('submission.csv',index=False)"
   ]
  },
  {
   "cell_type": "code",
   "execution_count": 139,
   "metadata": {},
   "outputs": [
    {
     "data": {
      "text/plain": [
       "0.0    51849\n",
       "1.0    23969\n",
       "Name: TARGET, dtype: int64"
      ]
     },
     "execution_count": 139,
     "metadata": {},
     "output_type": "execute_result"
    }
   ],
   "source": [
    "data['TARGET'].value_counts()"
   ]
  },
  {
   "cell_type": "code",
   "execution_count": 140,
   "metadata": {},
   "outputs": [
    {
     "data": {
      "text/plain": [
       "0.0    51849\n",
       "1.0    23969\n",
       "Name: TARGET, dtype: int64"
      ]
     },
     "execution_count": 140,
     "metadata": {},
     "output_type": "execute_result"
    }
   ],
   "source": [
    "data1=pd.read_csv('submission.csv')\n",
    "data1['TARGET'].value_counts()"
   ]
  },
  {
   "cell_type": "code",
   "execution_count": 123,
   "metadata": {},
   "outputs": [
    {
     "data": {
      "text/plain": [
       "(116819, 241, 1)"
      ]
     },
     "execution_count": 123,
     "metadata": {},
     "output_type": "execute_result"
    }
   ],
   "source": [
    "x_train.shape"
   ]
  },
  {
   "cell_type": "code",
   "execution_count": 39,
   "metadata": {},
   "outputs": [
    {
     "data": {
      "text/plain": [
       "0.705281446"
      ]
     },
     "execution_count": 39,
     "metadata": {},
     "output_type": "execute_result"
    }
   ],
   "source": []
  },
  {
   "cell_type": "code",
   "execution_count": null,
   "metadata": {},
   "outputs": [],
   "source": []
  }
 ],
 "metadata": {
  "kernelspec": {
   "display_name": "Python 3",
   "language": "python",
   "name": "python3"
  },
  "language_info": {
   "codemirror_mode": {
    "name": "ipython",
    "version": 3
   },
   "file_extension": ".py",
   "mimetype": "text/x-python",
   "name": "python",
   "nbconvert_exporter": "python",
   "pygments_lexer": "ipython3",
   "version": "3.7.4"
  }
 },
 "nbformat": 4,
 "nbformat_minor": 2
}
